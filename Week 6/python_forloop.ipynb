{
 "cells": [
  {
   "cell_type": "markdown",
   "metadata": {},
   "source": [
    "# Cole Weber\n",
    "## Week 6 - 2/23/2021\n",
    "### Python For Loops"
   ]
  },
  {
   "cell_type": "code",
   "execution_count": 7,
   "metadata": {},
   "outputs": [
    {
     "name": "stdout",
     "output_type": "stream",
     "text": [
      "Apple\n",
      "Cherry\n",
      "Banana\n"
     ]
    }
   ],
   "source": [
    "fruits = ['Apple', 'Cherry', 'Banana', 'Orange', 'Lychee', 'Grape']\n",
    "for fruit in fruits:\n",
    "    print(fruit)\n",
    "    if fruit == 'Banana':\n",
    "     break;"
   ]
  },
  {
   "cell_type": "code",
   "execution_count": 9,
   "metadata": {},
   "outputs": [
    {
     "name": "stdout",
     "output_type": "stream",
     "text": [
      "Apple\n",
      "Cherry\n"
     ]
    }
   ],
   "source": [
    "# Breaks leaves the loop it is inside\n",
    "for fruit in fruits:\n",
    "    if fruit != 'Banana':\n",
    "        print(fruit)\n",
    "    else:\n",
    "        break;"
   ]
  },
  {
   "cell_type": "code",
   "execution_count": 11,
   "metadata": {},
   "outputs": [
    {
     "name": "stdout",
     "output_type": "stream",
     "text": [
      "Apple\n",
      "Cherry\n",
      "Orange\n",
      "Lychee\n",
      "Grape\n"
     ]
    }
   ],
   "source": [
    "for fruit in fruits:\n",
    "    if fruit == 'Banana':\n",
    "        continue\n",
    "    print(fruit)\n",
    "    "
   ]
  },
  {
   "cell_type": "code",
   "execution_count": 15,
   "metadata": {},
   "outputs": [
    {
     "name": "stdout",
     "output_type": "stream",
     "text": [
      "2\n",
      "4\n",
      "6\n",
      "8\n",
      "10\n",
      "12\n",
      "14\n",
      "16\n",
      "18\n"
     ]
    }
   ],
   "source": [
    "# Built in range. Beginning inclusive; endpoint exclusive/\n",
    "for num in range(2, 20, 2):\n",
    "    print(num)"
   ]
  },
  {
   "cell_type": "code",
   "execution_count": 22,
   "metadata": {},
   "outputs": [
    {
     "name": "stdout",
     "output_type": "stream",
     "text": [
      "Yellow Apple\n",
      "Yellow Cherry\n",
      "Yellow Banana\n",
      "Yellow Orange\n",
      "Yellow Lychee\n",
      "Blue Apple\n",
      "Blue Cherry\n",
      "Blue Banana\n",
      "Blue Orange\n",
      "Blue Lychee\n",
      "Blue Grape\n",
      "Green Apple\n",
      "Green Cherry\n",
      "Green Banana\n",
      "Green Orange\n",
      "Green Lychee\n",
      "Green Grape\n"
     ]
    }
   ],
   "source": [
    "color = ['Yellow', 'Blue', 'Green']\n",
    "fruit = ['Apple', 'Grape', 'Berry']\n",
    "\n",
    "for c in color:\n",
    "    for f in fruits:\n",
    "        if c == 'Yellow' and f == 'Grape':\n",
    "            continue\n",
    "        print(c, f)"
   ]
  },
  {
   "cell_type": "code",
   "execution_count": null,
   "metadata": {},
   "outputs": [],
   "source": []
  }
 ],
 "metadata": {
  "kernelspec": {
   "display_name": "Python 3",
   "language": "python",
   "name": "python3"
  },
  "language_info": {
   "codemirror_mode": {
    "name": "ipython",
    "version": 3
   },
   "file_extension": ".py",
   "mimetype": "text/x-python",
   "name": "python",
   "nbconvert_exporter": "python",
   "pygments_lexer": "ipython3",
   "version": "3.8.3"
  }
 },
 "nbformat": 4,
 "nbformat_minor": 4
}
