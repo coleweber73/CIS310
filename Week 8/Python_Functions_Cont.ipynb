{
 "cells": [
  {
   "cell_type": "markdown",
   "metadata": {},
   "source": [
    "# Cole Weber\n",
    "## Week 8 - 3/09/21\n",
    "### Python- Functions Continued"
   ]
  },
  {
   "cell_type": "code",
   "execution_count": 4,
   "metadata": {},
   "outputs": [],
   "source": [
    "def fullname (fname, lname):\n",
    "    return fname + \" \" + lname"
   ]
  },
  {
   "cell_type": "code",
   "execution_count": 6,
   "metadata": {},
   "outputs": [
    {
     "data": {
      "text/plain": [
       "'Cole Weber'"
      ]
     },
     "execution_count": 6,
     "metadata": {},
     "output_type": "execute_result"
    }
   ],
   "source": [
    "string = fullname(\"Cole\", \"Weber\")\n",
    "string"
   ]
  },
  {
   "cell_type": "code",
   "execution_count": 16,
   "metadata": {},
   "outputs": [],
   "source": [
    "def primenum (num):\n",
    "    for n in range(2,num):\n",
    "        if num % n == 0:\n",
    "            return str(num) + ' is not prime'\n",
    "    else:\n",
    "        return str(num) + ' is prime'"
   ]
  },
  {
   "cell_type": "code",
   "execution_count": 19,
   "metadata": {},
   "outputs": [
    {
     "data": {
      "text/plain": [
       "'9 is not prime'"
      ]
     },
     "execution_count": 19,
     "metadata": {},
     "output_type": "execute_result"
    }
   ],
   "source": [
    "x = primenum(9)\n",
    "x"
   ]
  },
  {
   "cell_type": "code",
   "execution_count": 26,
   "metadata": {},
   "outputs": [],
   "source": [
    "# Return the max or the min of a number depending on if both number are odd\n",
    "\n",
    "def min2odds (n1, n2):\n",
    "    if n1 % 2 != 0 and n2 % 2 != 0:\n",
    "        return min(n1, n2)\n",
    "    else:\n",
    "        return max(n1, n2)"
   ]
  },
  {
   "cell_type": "code",
   "execution_count": 27,
   "metadata": {},
   "outputs": [
    {
     "data": {
      "text/plain": [
       "6"
      ]
     },
     "execution_count": 27,
     "metadata": {},
     "output_type": "execute_result"
    }
   ],
   "source": [
    "min = min2odds(3, 6)\n",
    "min"
   ]
  },
  {
   "cell_type": "code",
   "execution_count": 32,
   "metadata": {},
   "outputs": [],
   "source": [
    "# check if two word in a string start with the same letter\n",
    "def checkstring(string):\n",
    "    lst = string.split()\n",
    "    if lst[0][0].upper() == lst[1][0].upper():\n",
    "        return \"Same letter\"\n",
    "    else:\n",
    "        return \"Different letters\""
   ]
  },
  {
   "cell_type": "code",
   "execution_count": 34,
   "metadata": {},
   "outputs": [
    {
     "data": {
      "text/plain": [
       "'Same letter'"
      ]
     },
     "execution_count": 34,
     "metadata": {},
     "output_type": "execute_result"
    }
   ],
   "source": [
    "string = checkstring(\"Python program\")\n",
    "string "
   ]
  },
  {
   "cell_type": "code",
   "execution_count": 38,
   "metadata": {},
   "outputs": [],
   "source": [
    "def isthirty (num1, num2):\n",
    "    if num1 + num2 == 30:\n",
    "        return True\n",
    "    elif num1 == 30 or num2 == 30:\n",
    "        return True\n",
    "    else:\n",
    "        return False"
   ]
  },
  {
   "cell_type": "code",
   "execution_count": 39,
   "metadata": {},
   "outputs": [
    {
     "name": "stdout",
     "output_type": "stream",
     "text": [
      "True\n"
     ]
    }
   ],
   "source": [
    "print(isthirty(20, 10))"
   ]
  },
  {
   "cell_type": "code",
   "execution_count": 40,
   "metadata": {},
   "outputs": [],
   "source": [
    "# Reduces the function by returning the value of the boolean expression\n",
    "def isthirty (num1, num2):\n",
    "    return (num1 + num2) == 30 or num1 == 30 or num2 == 30"
   ]
  },
  {
   "cell_type": "code",
   "execution_count": 41,
   "metadata": {},
   "outputs": [
    {
     "name": "stdout",
     "output_type": "stream",
     "text": [
      "True\n"
     ]
    }
   ],
   "source": [
    "print(isthirty(20, 10))"
   ]
  },
  {
   "cell_type": "code",
   "execution_count": 54,
   "metadata": {},
   "outputs": [],
   "source": [
    "# number --> NumBer\n",
    "def capitalTwo(String):\n",
    "    if len(String) > 4:\n",
    "        pt1 = String[0:3].capitalize()\n",
    "        pt2 = pt1 + String[3:].capitalize()\n",
    "        return pt2\n",
    "    else:\n",
    "        print(\"String is not long enough\")\n",
    "        return\n"
   ]
  },
  {
   "cell_type": "code",
   "execution_count": 56,
   "metadata": {},
   "outputs": [
    {
     "name": "stdout",
     "output_type": "stream",
     "text": [
      "String is not long enough\n"
     ]
    }
   ],
   "source": [
    "capitalTwo(\"Peni\")"
   ]
  },
  {
   "cell_type": "code",
   "execution_count": 58,
   "metadata": {},
   "outputs": [
    {
     "data": {
      "text/plain": [
       "['These', 'are', 'words']"
      ]
     },
     "execution_count": 58,
     "metadata": {},
     "output_type": "execute_result"
    }
   ],
   "source": [
    "# Reverse a statement\n",
    "String = \"These are words\"\n",
    "lst = String.split()\n",
    "lst"
   ]
  },
  {
   "cell_type": "code",
   "execution_count": 72,
   "metadata": {},
   "outputs": [
    {
     "data": {
      "text/plain": [
       "['words', 'are', 'These']"
      ]
     },
     "execution_count": 72,
     "metadata": {},
     "output_type": "execute_result"
    }
   ],
   "source": [
    "lst.reverse()\n",
    "lst"
   ]
  },
  {
   "cell_type": "code",
   "execution_count": 77,
   "metadata": {},
   "outputs": [
    {
     "data": {
      "text/plain": [
       "'These are words'"
      ]
     },
     "execution_count": 77,
     "metadata": {},
     "output_type": "execute_result"
    }
   ],
   "source": [
    "strjoin = \" \".join(lst)\n",
    "strjoin"
   ]
  },
  {
   "cell_type": "code",
   "execution_count": 79,
   "metadata": {},
   "outputs": [
    {
     "name": "stdout",
     "output_type": "stream",
     "text": [
      "['These', 'are', 'words'] \n",
      " These are words\n"
     ]
    }
   ],
   "source": [
    "print(lst, \"\\n\", strjoin)"
   ]
  },
  {
   "cell_type": "code",
   "execution_count": 82,
   "metadata": {},
   "outputs": [],
   "source": [
    "def rv_state(string):\n",
    "    lst = string.split()\n",
    "    lst.reverse()\n",
    "    return \" \".join(lst)"
   ]
  },
  {
   "cell_type": "code",
   "execution_count": 83,
   "metadata": {},
   "outputs": [
    {
     "data": {
      "text/plain": [
       "'string this in words many Two'"
      ]
     },
     "execution_count": 83,
     "metadata": {},
     "output_type": "execute_result"
    }
   ],
   "source": [
    "rv_state(\"Two many words in this string\")"
   ]
  },
  {
   "cell_type": "code",
   "execution_count": 86,
   "metadata": {},
   "outputs": [
    {
     "data": {
      "text/plain": [
       "'string new a is This'"
      ]
     },
     "execution_count": 86,
     "metadata": {},
     "output_type": "execute_result"
    }
   ],
   "source": [
    "# Reverse chnages the list and slicing creates a new list\n",
    "new_string = \"This is a new string\"\n",
    "' '.join(new_string.split()[::-1])"
   ]
  },
  {
   "cell_type": "code",
   "execution_count": 87,
   "metadata": {},
   "outputs": [],
   "source": [
    "def findfive(lst):\n",
    "    for i in range(0, len(lst) - 1):\n",
    "        if lst[i] == 5 and lst[i + 1] == 5:\n",
    "            return True\n",
    "    else:\n",
    "        return False"
   ]
  },
  {
   "cell_type": "code",
   "execution_count": 94,
   "metadata": {},
   "outputs": [
    {
     "data": {
      "text/plain": [
       "False"
      ]
     },
     "execution_count": 94,
     "metadata": {},
     "output_type": "execute_result"
    }
   ],
   "source": [
    "num_list = [1, 3, 5, 6, 0, 0, 1, 4, 5, 7]\n",
    "findfive(num_list)"
   ]
  },
  {
   "cell_type": "code",
   "execution_count": 95,
   "metadata": {},
   "outputs": [],
   "source": [
    "def has_code(lst):\n",
    "    for i in range(0, len(lst)  - 1):\n",
    "        if lst[i:i + 3] == [0, 0, 1]:\n",
    "            return True\n",
    "    return False"
   ]
  },
  {
   "cell_type": "code",
   "execution_count": 96,
   "metadata": {},
   "outputs": [
    {
     "data": {
      "text/plain": [
       "True"
      ]
     },
     "execution_count": 96,
     "metadata": {},
     "output_type": "execute_result"
    }
   ],
   "source": [
    "has_code(num_list)"
   ]
  },
  {
   "cell_type": "code",
   "execution_count": 98,
   "metadata": {},
   "outputs": [
    {
     "data": {
      "text/plain": [
       "[2, 3, 5, 5]"
      ]
     },
     "execution_count": 98,
     "metadata": {},
     "output_type": "execute_result"
    }
   ],
   "source": [
    "shortList = [1, 2, 3, 5, 5]\n",
    "shortList.pop(0)\n",
    "shortList"
   ]
  },
  {
   "cell_type": "code",
   "execution_count": 106,
   "metadata": {},
   "outputs": [],
   "source": [
    "# Like method overloading in Java but you just build it under one function\n",
    "def full_name(*names):\n",
    "    lst = []\n",
    "    if len(names) == 1:\n",
    "        print(\"First Name: \" + names[0])\n",
    "    elif len(names) == 2:\n",
    "        for name in names:\n",
    "            lst.append(name)\n",
    "            format_list = \" \".join(lst)\n",
    "        print(\"First + Last: \" + format_list)\n",
    "    elif len(names) == 3:\n",
    "        for name in names:\n",
    "            lst.append(name)\n",
    "            format_list = \" \".join(lst)\n",
    "        print(\"Full Name:\", format_list)\n",
    "    else:\n",
    "        print(\"Name too long\")"
   ]
  },
  {
   "cell_type": "code",
   "execution_count": 107,
   "metadata": {},
   "outputs": [
    {
     "name": "stdout",
     "output_type": "stream",
     "text": [
      "Full Name: Cole Gary Weber\n"
     ]
    }
   ],
   "source": [
    "full_name(\"Cole\", \"Gary\", \"Weber\")"
   ]
  },
  {
   "cell_type": "code",
   "execution_count": 108,
   "metadata": {},
   "outputs": [],
   "source": [
    "def sum_nums (*nums):\n",
    "    return sum(nums)"
   ]
  },
  {
   "cell_type": "code",
   "execution_count": 111,
   "metadata": {},
   "outputs": [
    {
     "data": {
      "text/plain": [
       "17"
      ]
     },
     "execution_count": 111,
     "metadata": {},
     "output_type": "execute_result"
    }
   ],
   "source": [
    "sum_nums(1, 4, 3, 2, 5, 2)"
   ]
  },
  {
   "cell_type": "code",
   "execution_count": null,
   "metadata": {},
   "outputs": [],
   "source": []
  }
 ],
 "metadata": {
  "kernelspec": {
   "display_name": "Python 3",
   "language": "python",
   "name": "python3"
  },
  "language_info": {
   "codemirror_mode": {
    "name": "ipython",
    "version": 3
   },
   "file_extension": ".py",
   "mimetype": "text/x-python",
   "name": "python",
   "nbconvert_exporter": "python",
   "pygments_lexer": "ipython3",
   "version": "3.8.5"
  }
 },
 "nbformat": 4,
 "nbformat_minor": 4
}
