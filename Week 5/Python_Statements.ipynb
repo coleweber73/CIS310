{
 "cells": [
  {
   "cell_type": "markdown",
   "metadata": {},
   "source": [
    "# Cole Weber\n",
    "## Week 5 - 2/18/2021\n",
    "### Python - Statements"
   ]
  },
  {
   "cell_type": "code",
   "execution_count": 4,
   "metadata": {},
   "outputs": [
    {
     "name": "stdout",
     "output_type": "stream",
     "text": [
      "Value is not 6\n"
     ]
    }
   ],
   "source": [
    "value = 6\n",
    "if value == 7:\n",
    "    print(\"Value is 6\")\n",
    "elif value < 7:\n",
    "    print (\"Value is not 6\")\n",
    "else:\n",
    "    print (\"Size does matter. Too small\")"
   ]
  },
  {
   "cell_type": "code",
   "execution_count": 7,
   "metadata": {},
   "outputs": [
    {
     "name": "stdout",
     "output_type": "stream",
     "text": [
      "Test 2 score was bad\n"
     ]
    }
   ],
   "source": [
    "test1 = 99\n",
    "test2 = 87\n",
    "if test2 < test1:\n",
    "    print(\"Test 2 score was bad\")\n",
    "else: \n",
    "    print(\"Maybe you just aren't smart\")"
   ]
  },
  {
   "cell_type": "code",
   "execution_count": 8,
   "metadata": {},
   "outputs": [
    {
     "ename": "SyntaxError",
     "evalue": "invalid syntax (<ipython-input-8-5b2a66ef858c>, line 1)",
     "output_type": "error",
     "traceback": [
      "\u001b[1;36m  File \u001b[1;32m\"<ipython-input-8-5b2a66ef858c>\"\u001b[1;36m, line \u001b[1;32m1\u001b[0m\n\u001b[1;33m    if test 2 == test 1:\u001b[0m\n\u001b[1;37m            ^\u001b[0m\n\u001b[1;31mSyntaxError\u001b[0m\u001b[1;31m:\u001b[0m invalid syntax\n"
     ]
    }
   ],
   "source": [
    "# Need to indent your if blocks\n",
    "if test 2 == test 1:\n",
    "print(\"Scores are the same\")"
   ]
  },
  {
   "cell_type": "code",
   "execution_count": 9,
   "metadata": {},
   "outputs": [
    {
     "name": "stdout",
     "output_type": "stream",
     "text": [
      "test 1 greater than test 2\n"
     ]
    }
   ],
   "source": [
    "test1 = 99\n",
    "test2 = 59\n",
    "print(\"test 1 greater than test 2\") if test1 >= test2 else print(\"test1 is smaller\")"
   ]
  },
  {
   "cell_type": "code",
   "execution_count": 10,
   "metadata": {},
   "outputs": [
    {
     "name": "stdout",
     "output_type": "stream",
     "text": [
      "Colorado\n"
     ]
    }
   ],
   "source": [
    "s = \"Colorado\"\n",
    "\n",
    "if s == \"Colorado\":\n",
    "    print(\"Colorado\")\n",
    "elif s == \"Florida\":\n",
    "    print(\"Florida\")\n",
    "else:\n",
    "    print(\"Somewhere Else\")"
   ]
  },
  {
   "cell_type": "code",
   "execution_count": 12,
   "metadata": {},
   "outputs": [
    {
     "name": "stdout",
     "output_type": "stream",
     "text": [
      "You passed only one test\n"
     ]
    }
   ],
   "source": [
    "# And / Or operands in if statements. \n",
    "if test2 > 60 and test1 > 60:\n",
    "    print(\"You passed both tests\")\n",
    "elif test2 > 60 or test1 > 60:\n",
    "    print(\"You passed only one test\")\n",
    "else:\n",
    "    print(\"You failed one test\")"
   ]
  },
  {
   "cell_type": "code",
   "execution_count": 13,
   "metadata": {},
   "outputs": [
    {
     "name": "stdout",
     "output_type": "stream",
     "text": [
      "You failed a test\n"
     ]
    }
   ],
   "source": [
    "if test2 > 60 and test1 > 60:\n",
    "    if test2 >= test1:\n",
    "        print(\"test 2 is better\")\n",
    "    else: \n",
    "        print(\"test 1 is better\")\n",
    "elif:\n",
    "    pass\n",
    "else:\n",
    "    print(\"You failed a test\")"
   ]
  },
  {
   "cell_type": "code",
   "execution_count": null,
   "metadata": {},
   "outputs": [],
   "source": []
  }
 ],
 "metadata": {
  "kernelspec": {
   "display_name": "Python 3",
   "language": "python",
   "name": "python3"
  },
  "language_info": {
   "codemirror_mode": {
    "name": "ipython",
    "version": 3
   },
   "file_extension": ".py",
   "mimetype": "text/x-python",
   "name": "python",
   "nbconvert_exporter": "python",
   "pygments_lexer": "ipython3",
   "version": "3.8.3"
  }
 },
 "nbformat": 4,
 "nbformat_minor": 4
}
