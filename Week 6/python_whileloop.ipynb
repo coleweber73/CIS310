{
 "cells": [
  {
   "cell_type": "markdown",
   "metadata": {},
   "source": [
    "# Cole Weber\n",
    "## Week 6 - 2/23/2021\n",
    "### While Loops"
   ]
  },
  {
   "cell_type": "code",
   "execution_count": 4,
   "metadata": {},
   "outputs": [
    {
     "name": "stdout",
     "output_type": "stream",
     "text": [
      "Less\n",
      "Less\n",
      "Less\n",
      "Less\n",
      "Less\n",
      "Less\n",
      "Less\n",
      "Less\n",
      "Less\n",
      "Less\n",
      "x = 10\n"
     ]
    }
   ],
   "source": [
    "# While loop continues to run until condition is false. \n",
    "x = 0\n",
    "while x < 10:\n",
    "    print('Less')\n",
    "    x += 1\n",
    "print(\"x = 10\")"
   ]
  },
  {
   "cell_type": "code",
   "execution_count": 7,
   "metadata": {},
   "outputs": [
    {
     "name": "stdout",
     "output_type": "stream",
     "text": [
      "Num is currently 1\n",
      "Num is currently 2\n",
      "Num is currently 3\n",
      "Num is currently 4\n",
      "Num is currently 5\n",
      "Num is currently 6\n"
     ]
    }
   ],
   "source": [
    "num = 1\n",
    "while num <=6:\n",
    "    print('Num is currently', num)\n",
    "    num += 1"
   ]
  },
  {
   "cell_type": "code",
   "execution_count": 10,
   "metadata": {},
   "outputs": [
    {
     "name": "stdout",
     "output_type": "stream",
     "text": [
      "Num is 1\n",
      "Num is 2\n",
      "Num is 3\n",
      "Num is 4\n",
      "Num is 5\n",
      "Num is 7\n",
      "Num is 8\n",
      "Num is 9\n",
      "Num is 10\n"
     ]
    }
   ],
   "source": [
    "num = 0\n",
    "while num < 10:\n",
    "    num += 1\n",
    "    if num == 6:\n",
    "        continue\n",
    "    print(\"Num is\", num)"
   ]
  },
  {
   "cell_type": "code",
   "execution_count": 11,
   "metadata": {},
   "outputs": [
    {
     "name": "stdout",
     "output_type": "stream",
     "text": [
      "Num is 2\n",
      "Num is 4\n",
      "Num is 6\n",
      "Num is 8\n",
      "Num is 10\n"
     ]
    }
   ],
   "source": [
    "num = 0\n",
    "while num < 10:\n",
    "    num += 1\n",
    "    if num % 2 == 0:\n",
    "        print('Num is', num)"
   ]
  },
  {
   "cell_type": "code",
   "execution_count": null,
   "metadata": {},
   "outputs": [],
   "source": [
    "while True:\n",
    "    print(\"Infinite Loop!\")"
   ]
  }
 ],
 "metadata": {
  "kernelspec": {
   "display_name": "Python 3",
   "language": "python",
   "name": "python3"
  },
  "language_info": {
   "codemirror_mode": {
    "name": "ipython",
    "version": 3
   },
   "file_extension": ".py",
   "mimetype": "text/x-python",
   "name": "python",
   "nbconvert_exporter": "python",
   "pygments_lexer": "ipython3",
   "version": "3.8.3"
  }
 },
 "nbformat": 4,
 "nbformat_minor": 4
}
