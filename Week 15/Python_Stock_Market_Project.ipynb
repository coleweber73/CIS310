{
 "cells": [
  {
   "cell_type": "markdown",
   "metadata": {},
   "source": [
    "# Cole Weber\n",
    "## Week 15 - 5/1/2021\n",
    "### Python Data Cleaning and Visualization Project - Stock market"
   ]
  },
  {
   "cell_type": "code",
   "execution_count": 1,
   "metadata": {},
   "outputs": [],
   "source": [
    "import pandas as pd\n",
    "import numpy as np\n",
    "from numpy.random import randn\n",
    "\n",
    "import matplotlib as mpl\n",
    "import matplotlib.pyplot as plt\n",
    "\n",
    "%matplotlib inline"
   ]
  },
  {
   "cell_type": "code",
   "execution_count": 4,
   "metadata": {},
   "outputs": [
    {
     "data": {
      "text/html": [
       "<div>\n",
       "<style scoped>\n",
       "    .dataframe tbody tr th:only-of-type {\n",
       "        vertical-align: middle;\n",
       "    }\n",
       "\n",
       "    .dataframe tbody tr th {\n",
       "        vertical-align: top;\n",
       "    }\n",
       "\n",
       "    .dataframe thead th {\n",
       "        text-align: right;\n",
       "    }\n",
       "</style>\n",
       "<table border=\"1\" class=\"dataframe\">\n",
       "  <thead>\n",
       "    <tr style=\"text-align: right;\">\n",
       "      <th></th>\n",
       "      <th>Date</th>\n",
       "      <th>Source</th>\n",
       "      <th>Open</th>\n",
       "      <th>High</th>\n",
       "      <th>Low</th>\n",
       "      <th>Close</th>\n",
       "      <th>Adj Close</th>\n",
       "      <th>Volume</th>\n",
       "      <th>Stock</th>\n",
       "    </tr>\n",
       "  </thead>\n",
       "  <tbody>\n",
       "    <tr>\n",
       "      <th>0</th>\n",
       "      <td>1/3/2012</td>\n",
       "      <td>yahoo</td>\n",
       "      <td>175.889999</td>\n",
       "      <td>179.479996</td>\n",
       "      <td>175.550003</td>\n",
       "      <td>179.029999</td>\n",
       "      <td>179.029999</td>\n",
       "      <td>5110800</td>\n",
       "      <td>amazon</td>\n",
       "    </tr>\n",
       "    <tr>\n",
       "      <th>1</th>\n",
       "      <td>1/4/2012</td>\n",
       "      <td>yahoo</td>\n",
       "      <td>179.210007</td>\n",
       "      <td>180.500000</td>\n",
       "      <td>176.070007</td>\n",
       "      <td>177.509995</td>\n",
       "      <td>177.509995</td>\n",
       "      <td>4205200</td>\n",
       "      <td>amazon</td>\n",
       "    </tr>\n",
       "    <tr>\n",
       "      <th>2</th>\n",
       "      <td>1/5/2012</td>\n",
       "      <td>yahoo</td>\n",
       "      <td>175.940002</td>\n",
       "      <td>178.250000</td>\n",
       "      <td>174.050003</td>\n",
       "      <td>177.610001</td>\n",
       "      <td>177.610001</td>\n",
       "      <td>3809100</td>\n",
       "      <td>amazon</td>\n",
       "    </tr>\n",
       "    <tr>\n",
       "      <th>3</th>\n",
       "      <td>1/6/2012</td>\n",
       "      <td>yahoo</td>\n",
       "      <td>178.070007</td>\n",
       "      <td>184.649994</td>\n",
       "      <td>177.500000</td>\n",
       "      <td>182.610001</td>\n",
       "      <td>182.610001</td>\n",
       "      <td>7008400</td>\n",
       "      <td>amazon</td>\n",
       "    </tr>\n",
       "    <tr>\n",
       "      <th>4</th>\n",
       "      <td>1/9/2012</td>\n",
       "      <td>yahoo</td>\n",
       "      <td>182.759995</td>\n",
       "      <td>184.369995</td>\n",
       "      <td>177.000000</td>\n",
       "      <td>178.559998</td>\n",
       "      <td>178.559998</td>\n",
       "      <td>5056900</td>\n",
       "      <td>amazon</td>\n",
       "    </tr>\n",
       "    <tr>\n",
       "      <th>5</th>\n",
       "      <td>1/10/2012</td>\n",
       "      <td>yahoo</td>\n",
       "      <td>181.100006</td>\n",
       "      <td>182.399994</td>\n",
       "      <td>177.100006</td>\n",
       "      <td>179.339996</td>\n",
       "      <td>179.339996</td>\n",
       "      <td>3985800</td>\n",
       "      <td>amazon</td>\n",
       "    </tr>\n",
       "    <tr>\n",
       "      <th>6</th>\n",
       "      <td>1/11/2012</td>\n",
       "      <td>yahoo</td>\n",
       "      <td>179.639999</td>\n",
       "      <td>180.770004</td>\n",
       "      <td>178.190002</td>\n",
       "      <td>178.899994</td>\n",
       "      <td>178.899994</td>\n",
       "      <td>3102700</td>\n",
       "      <td>amazon</td>\n",
       "    </tr>\n",
       "    <tr>\n",
       "      <th>7</th>\n",
       "      <td>1/12/2012</td>\n",
       "      <td>yahoo</td>\n",
       "      <td>179.419998</td>\n",
       "      <td>179.490005</td>\n",
       "      <td>175.750000</td>\n",
       "      <td>175.929993</td>\n",
       "      <td>175.929993</td>\n",
       "      <td>5385800</td>\n",
       "      <td>amazon</td>\n",
       "    </tr>\n",
       "    <tr>\n",
       "      <th>8</th>\n",
       "      <td>1/13/2012</td>\n",
       "      <td>yahoo</td>\n",
       "      <td>175.809998</td>\n",
       "      <td>178.800003</td>\n",
       "      <td>173.500000</td>\n",
       "      <td>178.419998</td>\n",
       "      <td>178.419998</td>\n",
       "      <td>4753500</td>\n",
       "      <td>amazon</td>\n",
       "    </tr>\n",
       "    <tr>\n",
       "      <th>9</th>\n",
       "      <td>1/17/2012</td>\n",
       "      <td>yahoo</td>\n",
       "      <td>180.149994</td>\n",
       "      <td>183.300003</td>\n",
       "      <td>178.509995</td>\n",
       "      <td>181.660004</td>\n",
       "      <td>181.660004</td>\n",
       "      <td>5644500</td>\n",
       "      <td>amazon</td>\n",
       "    </tr>\n",
       "  </tbody>\n",
       "</table>\n",
       "</div>"
      ],
      "text/plain": [
       "        Date Source        Open        High         Low       Close  \\\n",
       "0   1/3/2012  yahoo  175.889999  179.479996  175.550003  179.029999   \n",
       "1   1/4/2012  yahoo  179.210007  180.500000  176.070007  177.509995   \n",
       "2   1/5/2012  yahoo  175.940002  178.250000  174.050003  177.610001   \n",
       "3   1/6/2012  yahoo  178.070007  184.649994  177.500000  182.610001   \n",
       "4   1/9/2012  yahoo  182.759995  184.369995  177.000000  178.559998   \n",
       "5  1/10/2012  yahoo  181.100006  182.399994  177.100006  179.339996   \n",
       "6  1/11/2012  yahoo  179.639999  180.770004  178.190002  178.899994   \n",
       "7  1/12/2012  yahoo  179.419998  179.490005  175.750000  175.929993   \n",
       "8  1/13/2012  yahoo  175.809998  178.800003  173.500000  178.419998   \n",
       "9  1/17/2012  yahoo  180.149994  183.300003  178.509995  181.660004   \n",
       "\n",
       "    Adj Close   Volume   Stock  \n",
       "0  179.029999  5110800  amazon  \n",
       "1  177.509995  4205200  amazon  \n",
       "2  177.610001  3809100  amazon  \n",
       "3  182.610001  7008400  amazon  \n",
       "4  178.559998  5056900  amazon  \n",
       "5  179.339996  3985800  amazon  \n",
       "6  178.899994  3102700  amazon  \n",
       "7  175.929993  5385800  amazon  \n",
       "8  178.419998  4753500  amazon  \n",
       "9  181.660004  5644500  amazon  "
      ]
     },
     "execution_count": 4,
     "metadata": {},
     "output_type": "execute_result"
    }
   ],
   "source": [
    "data = pd.read_csv('AMZN-1.csv')\n",
    "data.head(10)"
   ]
  },
  {
   "cell_type": "code",
   "execution_count": 5,
   "metadata": {},
   "outputs": [
    {
     "data": {
      "text/html": [
       "<div>\n",
       "<style scoped>\n",
       "    .dataframe tbody tr th:only-of-type {\n",
       "        vertical-align: middle;\n",
       "    }\n",
       "\n",
       "    .dataframe tbody tr th {\n",
       "        vertical-align: top;\n",
       "    }\n",
       "\n",
       "    .dataframe thead th {\n",
       "        text-align: right;\n",
       "    }\n",
       "</style>\n",
       "<table border=\"1\" class=\"dataframe\">\n",
       "  <thead>\n",
       "    <tr style=\"text-align: right;\">\n",
       "      <th></th>\n",
       "      <th>Date</th>\n",
       "      <th>Source</th>\n",
       "      <th>Open</th>\n",
       "      <th>High</th>\n",
       "      <th>Low</th>\n",
       "      <th>Close</th>\n",
       "      <th>Adj Close</th>\n",
       "      <th>Volume</th>\n",
       "      <th>Stock</th>\n",
       "    </tr>\n",
       "  </thead>\n",
       "  <tbody>\n",
       "    <tr>\n",
       "      <th>2232</th>\n",
       "      <td>11/13/2020</td>\n",
       "      <td>yahoo</td>\n",
       "      <td>3122.000000</td>\n",
       "      <td>3141.719971</td>\n",
       "      <td>3085.389893</td>\n",
       "      <td>3128.810059</td>\n",
       "      <td>3128.810059</td>\n",
       "      <td>3756200</td>\n",
       "      <td>amazon</td>\n",
       "    </tr>\n",
       "    <tr>\n",
       "      <th>2233</th>\n",
       "      <td>11/16/2020</td>\n",
       "      <td>yahoo</td>\n",
       "      <td>3093.199951</td>\n",
       "      <td>3142.699951</td>\n",
       "      <td>3072.689941</td>\n",
       "      <td>3131.060059</td>\n",
       "      <td>3131.060059</td>\n",
       "      <td>3808700</td>\n",
       "      <td>amazon</td>\n",
       "    </tr>\n",
       "    <tr>\n",
       "      <th>2234</th>\n",
       "      <td>11/17/2020</td>\n",
       "      <td>yahoo</td>\n",
       "      <td>3183.540039</td>\n",
       "      <td>3189.250000</td>\n",
       "      <td>3135.260010</td>\n",
       "      <td>3135.659912</td>\n",
       "      <td>3135.659912</td>\n",
       "      <td>3444700</td>\n",
       "      <td>amazon</td>\n",
       "    </tr>\n",
       "    <tr>\n",
       "      <th>2235</th>\n",
       "      <td>11/18/2020</td>\n",
       "      <td>yahoo</td>\n",
       "      <td>3134.000000</td>\n",
       "      <td>3140.000000</td>\n",
       "      <td>3105.100098</td>\n",
       "      <td>3105.459961</td>\n",
       "      <td>3105.459961</td>\n",
       "      <td>2916800</td>\n",
       "      <td>amazon</td>\n",
       "    </tr>\n",
       "    <tr>\n",
       "      <th>2236</th>\n",
       "      <td>11/19/2020</td>\n",
       "      <td>yahoo</td>\n",
       "      <td>3105.310059</td>\n",
       "      <td>3125.000000</td>\n",
       "      <td>3080.919922</td>\n",
       "      <td>3117.020020</td>\n",
       "      <td>3117.020020</td>\n",
       "      <td>3010300</td>\n",
       "      <td>amazon</td>\n",
       "    </tr>\n",
       "    <tr>\n",
       "      <th>2237</th>\n",
       "      <td>11/20/2020</td>\n",
       "      <td>yahoo</td>\n",
       "      <td>3117.020020</td>\n",
       "      <td>3132.889893</td>\n",
       "      <td>3098.050049</td>\n",
       "      <td>3099.399902</td>\n",
       "      <td>3099.399902</td>\n",
       "      <td>3374400</td>\n",
       "      <td>amazon</td>\n",
       "    </tr>\n",
       "    <tr>\n",
       "      <th>2238</th>\n",
       "      <td>11/23/2020</td>\n",
       "      <td>yahoo</td>\n",
       "      <td>3116.699951</td>\n",
       "      <td>3139.750000</td>\n",
       "      <td>3065.459961</td>\n",
       "      <td>3098.389893</td>\n",
       "      <td>3098.389893</td>\n",
       "      <td>4708900</td>\n",
       "      <td>amazon</td>\n",
       "    </tr>\n",
       "    <tr>\n",
       "      <th>2239</th>\n",
       "      <td>11/24/2020</td>\n",
       "      <td>yahoo</td>\n",
       "      <td>3100.500000</td>\n",
       "      <td>3134.250000</td>\n",
       "      <td>3086.260010</td>\n",
       "      <td>3118.060059</td>\n",
       "      <td>3118.060059</td>\n",
       "      <td>3602100</td>\n",
       "      <td>amazon</td>\n",
       "    </tr>\n",
       "    <tr>\n",
       "      <th>2240</th>\n",
       "      <td>11/25/2020</td>\n",
       "      <td>yahoo</td>\n",
       "      <td>3141.870117</td>\n",
       "      <td>3198.000000</td>\n",
       "      <td>3140.260010</td>\n",
       "      <td>3185.070068</td>\n",
       "      <td>3185.070068</td>\n",
       "      <td>3790400</td>\n",
       "      <td>amazon</td>\n",
       "    </tr>\n",
       "    <tr>\n",
       "      <th>2241</th>\n",
       "      <td>11/27/2020</td>\n",
       "      <td>yahoo</td>\n",
       "      <td>3211.260010</td>\n",
       "      <td>3216.189941</td>\n",
       "      <td>3190.050049</td>\n",
       "      <td>3195.340088</td>\n",
       "      <td>3195.340088</td>\n",
       "      <td>2392900</td>\n",
       "      <td>amazon</td>\n",
       "    </tr>\n",
       "  </tbody>\n",
       "</table>\n",
       "</div>"
      ],
      "text/plain": [
       "            Date Source         Open         High          Low        Close  \\\n",
       "2232  11/13/2020  yahoo  3122.000000  3141.719971  3085.389893  3128.810059   \n",
       "2233  11/16/2020  yahoo  3093.199951  3142.699951  3072.689941  3131.060059   \n",
       "2234  11/17/2020  yahoo  3183.540039  3189.250000  3135.260010  3135.659912   \n",
       "2235  11/18/2020  yahoo  3134.000000  3140.000000  3105.100098  3105.459961   \n",
       "2236  11/19/2020  yahoo  3105.310059  3125.000000  3080.919922  3117.020020   \n",
       "2237  11/20/2020  yahoo  3117.020020  3132.889893  3098.050049  3099.399902   \n",
       "2238  11/23/2020  yahoo  3116.699951  3139.750000  3065.459961  3098.389893   \n",
       "2239  11/24/2020  yahoo  3100.500000  3134.250000  3086.260010  3118.060059   \n",
       "2240  11/25/2020  yahoo  3141.870117  3198.000000  3140.260010  3185.070068   \n",
       "2241  11/27/2020  yahoo  3211.260010  3216.189941  3190.050049  3195.340088   \n",
       "\n",
       "        Adj Close   Volume   Stock  \n",
       "2232  3128.810059  3756200  amazon  \n",
       "2233  3131.060059  3808700  amazon  \n",
       "2234  3135.659912  3444700  amazon  \n",
       "2235  3105.459961  2916800  amazon  \n",
       "2236  3117.020020  3010300  amazon  \n",
       "2237  3099.399902  3374400  amazon  \n",
       "2238  3098.389893  4708900  amazon  \n",
       "2239  3118.060059  3602100  amazon  \n",
       "2240  3185.070068  3790400  amazon  \n",
       "2241  3195.340088  2392900  amazon  "
      ]
     },
     "execution_count": 5,
     "metadata": {},
     "output_type": "execute_result"
    }
   ],
   "source": [
    "data.tail(10)"
   ]
  },
  {
   "cell_type": "code",
   "execution_count": 6,
   "metadata": {},
   "outputs": [
    {
     "data": {
      "text/html": [
       "<div>\n",
       "<style scoped>\n",
       "    .dataframe tbody tr th:only-of-type {\n",
       "        vertical-align: middle;\n",
       "    }\n",
       "\n",
       "    .dataframe tbody tr th {\n",
       "        vertical-align: top;\n",
       "    }\n",
       "\n",
       "    .dataframe thead th {\n",
       "        text-align: right;\n",
       "    }\n",
       "</style>\n",
       "<table border=\"1\" class=\"dataframe\">\n",
       "  <thead>\n",
       "    <tr style=\"text-align: right;\">\n",
       "      <th></th>\n",
       "      <th>Open</th>\n",
       "      <th>High</th>\n",
       "      <th>Low</th>\n",
       "      <th>Close</th>\n",
       "      <th>Adj Close</th>\n",
       "      <th>Volume</th>\n",
       "    </tr>\n",
       "  </thead>\n",
       "  <tbody>\n",
       "    <tr>\n",
       "      <th>count</th>\n",
       "      <td>2241.000000</td>\n",
       "      <td>2240.000000</td>\n",
       "      <td>2242.000000</td>\n",
       "      <td>2239.000000</td>\n",
       "      <td>2241.000000</td>\n",
       "      <td>2.242000e+03</td>\n",
       "    </tr>\n",
       "    <tr>\n",
       "      <th>mean</th>\n",
       "      <td>991.401419</td>\n",
       "      <td>1002.190218</td>\n",
       "      <td>979.221717</td>\n",
       "      <td>991.895355</td>\n",
       "      <td>991.190696</td>\n",
       "      <td>4.118187e+06</td>\n",
       "    </tr>\n",
       "    <tr>\n",
       "      <th>std</th>\n",
       "      <td>802.269032</td>\n",
       "      <td>811.968123</td>\n",
       "      <td>790.843600</td>\n",
       "      <td>801.664757</td>\n",
       "      <td>801.654109</td>\n",
       "      <td>2.278888e+06</td>\n",
       "    </tr>\n",
       "    <tr>\n",
       "      <th>min</th>\n",
       "      <td>173.809998</td>\n",
       "      <td>178.250000</td>\n",
       "      <td>172.000000</td>\n",
       "      <td>175.929993</td>\n",
       "      <td>175.929993</td>\n",
       "      <td>0.000000e+00</td>\n",
       "    </tr>\n",
       "    <tr>\n",
       "      <th>25%</th>\n",
       "      <td>320.359985</td>\n",
       "      <td>323.687500</td>\n",
       "      <td>315.807487</td>\n",
       "      <td>321.385010</td>\n",
       "      <td>320.510010</td>\n",
       "      <td>2.688550e+06</td>\n",
       "    </tr>\n",
       "    <tr>\n",
       "      <th>50%</th>\n",
       "      <td>717.380005</td>\n",
       "      <td>723.394989</td>\n",
       "      <td>712.629975</td>\n",
       "      <td>719.299988</td>\n",
       "      <td>719.070007</td>\n",
       "      <td>3.528700e+06</td>\n",
       "    </tr>\n",
       "    <tr>\n",
       "      <th>75%</th>\n",
       "      <td>1660.000000</td>\n",
       "      <td>1679.964966</td>\n",
       "      <td>1633.707459</td>\n",
       "      <td>1661.830017</td>\n",
       "      <td>1660.510010</td>\n",
       "      <td>4.839800e+06</td>\n",
       "    </tr>\n",
       "    <tr>\n",
       "      <th>max</th>\n",
       "      <td>3547.000000</td>\n",
       "      <td>3552.250000</td>\n",
       "      <td>3486.689941</td>\n",
       "      <td>3531.449951</td>\n",
       "      <td>3531.449951</td>\n",
       "      <td>2.385610e+07</td>\n",
       "    </tr>\n",
       "  </tbody>\n",
       "</table>\n",
       "</div>"
      ],
      "text/plain": [
       "              Open         High          Low        Close    Adj Close  \\\n",
       "count  2241.000000  2240.000000  2242.000000  2239.000000  2241.000000   \n",
       "mean    991.401419  1002.190218   979.221717   991.895355   991.190696   \n",
       "std     802.269032   811.968123   790.843600   801.664757   801.654109   \n",
       "min     173.809998   178.250000   172.000000   175.929993   175.929993   \n",
       "25%     320.359985   323.687500   315.807487   321.385010   320.510010   \n",
       "50%     717.380005   723.394989   712.629975   719.299988   719.070007   \n",
       "75%    1660.000000  1679.964966  1633.707459  1661.830017  1660.510010   \n",
       "max    3547.000000  3552.250000  3486.689941  3531.449951  3531.449951   \n",
       "\n",
       "             Volume  \n",
       "count  2.242000e+03  \n",
       "mean   4.118187e+06  \n",
       "std    2.278888e+06  \n",
       "min    0.000000e+00  \n",
       "25%    2.688550e+06  \n",
       "50%    3.528700e+06  \n",
       "75%    4.839800e+06  \n",
       "max    2.385610e+07  "
      ]
     },
     "execution_count": 6,
     "metadata": {},
     "output_type": "execute_result"
    }
   ],
   "source": [
    "data.describe()"
   ]
  },
  {
   "cell_type": "code",
   "execution_count": 17,
   "metadata": {},
   "outputs": [
    {
     "data": {
      "text/plain": [
       "Index(['Date', 'Source', 'Open', 'High', 'Low', 'Close', 'Adj Close', 'Volume',\n",
       "       'Stock'],\n",
       "      dtype='object')"
      ]
     },
     "execution_count": 17,
     "metadata": {},
     "output_type": "execute_result"
    }
   ],
   "source": [
    "data.columns"
   ]
  },
  {
   "cell_type": "code",
   "execution_count": 7,
   "metadata": {},
   "outputs": [
    {
     "name": "stdout",
     "output_type": "stream",
     "text": [
      "<class 'pandas.core.frame.DataFrame'>\n",
      "RangeIndex: 2242 entries, 0 to 2241\n",
      "Data columns (total 9 columns):\n",
      " #   Column     Non-Null Count  Dtype  \n",
      "---  ------     --------------  -----  \n",
      " 0   Date       2242 non-null   object \n",
      " 1   Source     2242 non-null   object \n",
      " 2   Open       2241 non-null   float64\n",
      " 3   High       2240 non-null   float64\n",
      " 4   Low        2242 non-null   float64\n",
      " 5   Close      2239 non-null   float64\n",
      " 6   Adj Close  2241 non-null   float64\n",
      " 7   Volume     2242 non-null   int64  \n",
      " 8   Stock      2242 non-null   object \n",
      "dtypes: float64(5), int64(1), object(3)\n",
      "memory usage: 157.8+ KB\n"
     ]
    }
   ],
   "source": [
    "data.info()"
   ]
  },
  {
   "cell_type": "code",
   "execution_count": 14,
   "metadata": {},
   "outputs": [
    {
     "data": {
      "text/plain": [
       "<matplotlib.axes._subplots.AxesSubplot at 0x24f79c1d100>"
      ]
     },
     "execution_count": 14,
     "metadata": {},
     "output_type": "execute_result"
    },
    {
     "data": {
      "image/png": "[encoded data removed]",
      "text/plain": [
       "<Figure size 864x288 with 1 Axes>"
      ]
     },
     "metadata": {
      "needs_background": "light"
     },
     "output_type": "display_data"
    }
   ],
   "source": [
    "data['Adj Close'].plot(legend=True, figsize=(12,4))"
   ]
  },
  {
   "cell_type": "code",
   "execution_count": 18,
   "metadata": {},
   "outputs": [
    {
     "name": "stdout",
     "output_type": "stream",
     "text": [
      "Numerical Columns: 6 Non-Numerical Columns: 3\n"
     ]
    }
   ],
   "source": [
    "# count the number of numerical and non-numerical columns\n",
    "from pandas.api.types import is_numeric_dtype\n",
    "n=0\n",
    "for c in data.columns:\n",
    "    if is_numeric_dtype(data[c]):\n",
    "        n += 1\n",
    "        \n",
    "print(\"Numerical Columns:\" , n, 'Non-Numerical Columns:',len(data.columns) - n)"
   ]
  },
  {
   "cell_type": "code",
   "execution_count": 19,
   "metadata": {},
   "outputs": [
    {
     "data": {
      "text/plain": [
       "Date         0\n",
       "Source       0\n",
       "Open         1\n",
       "High         2\n",
       "Low          0\n",
       "Close        3\n",
       "Adj Close    1\n",
       "Volume       0\n",
       "Stock        0\n",
       "dtype: int64"
      ]
     },
     "execution_count": 19,
     "metadata": {},
     "output_type": "execute_result"
    }
   ],
   "source": [
    "# Number of rows that have missing values\n",
    "data.isnull().sum()"
   ]
  },
  {
   "cell_type": "code",
   "execution_count": 20,
   "metadata": {},
   "outputs": [],
   "source": [
    "# Data cleaning to prepare data for analytics (Handlind missing value)\n",
    "data.dropna(inplace=True) # Drops any rows containing null values"
   ]
  },
  {
   "cell_type": "code",
   "execution_count": 21,
   "metadata": {},
   "outputs": [
    {
     "name": "stdout",
     "output_type": "stream",
     "text": [
      "<class 'pandas.core.frame.DataFrame'>\n",
      "Int64Index: 2235 entries, 0 to 2241\n",
      "Data columns (total 9 columns):\n",
      " #   Column     Non-Null Count  Dtype  \n",
      "---  ------     --------------  -----  \n",
      " 0   Date       2235 non-null   object \n",
      " 1   Source     2235 non-null   object \n",
      " 2   Open       2235 non-null   float64\n",
      " 3   High       2235 non-null   float64\n",
      " 4   Low        2235 non-null   float64\n",
      " 5   Close      2235 non-null   float64\n",
      " 6   Adj Close  2235 non-null   float64\n",
      " 7   Volume     2235 non-null   int64  \n",
      " 8   Stock      2235 non-null   object \n",
      "dtypes: float64(5), int64(1), object(3)\n",
      "memory usage: 174.6+ KB\n"
     ]
    }
   ],
   "source": [
    "data.info()"
   ]
  },
  {
   "cell_type": "code",
   "execution_count": 24,
   "metadata": {},
   "outputs": [
    {
     "data": {
      "text/plain": [
       "<matplotlib.axes._subplots.AxesSubplot at 0x24f79eefee0>"
      ]
     },
     "execution_count": 24,
     "metadata": {},
     "output_type": "execute_result"
    },
    {
     "data": {
      "image/png": "[encoded data removed]",
      "text/plain": [
       "<Figure size 432x288 with 1 Axes>"
      ]
     },
     "metadata": {
      "needs_background": "light"
     },
     "output_type": "display_data"
    }
   ],
   "source": [
    "# Clean abnormal values\n",
    "data['Volume'].plot(kind='hist', bins=100)"
   ]
  },
  {
   "cell_type": "code",
   "execution_count": 25,
   "metadata": {},
   "outputs": [
    {
     "data": {
      "text/plain": [
       "0"
      ]
     },
     "execution_count": 25,
     "metadata": {},
     "output_type": "execute_result"
    }
   ],
   "source": [
    "data['Volume'].min()"
   ]
  },
  {
   "cell_type": "code",
   "execution_count": 26,
   "metadata": {},
   "outputs": [
    {
     "data": {
      "text/plain": [
       "23856100"
      ]
     },
     "execution_count": 26,
     "metadata": {},
     "output_type": "execute_result"
    }
   ],
   "source": [
    "data['Volume'].max()"
   ]
  },
  {
   "cell_type": "code",
   "execution_count": 27,
   "metadata": {},
   "outputs": [
    {
     "data": {
      "text/plain": [
       "29            0\n",
       "114           1\n",
       "18            5\n",
       "161           6\n",
       "47           23\n",
       "90           25\n",
       "66           78\n",
       "2007     881300\n",
       "245      984400\n",
       "1001    1091200\n",
       "126     1331700\n",
       "879     1343400\n",
       "426     1350600\n",
       "376     1373000\n",
       "497     1380400\n",
       "405     1415000\n",
       "411     1422600\n",
       "415     1457100\n",
       "1164    1458800\n",
       "403     1504500\n",
       "Name: Volume, dtype: int64"
      ]
     },
     "execution_count": 27,
     "metadata": {},
     "output_type": "execute_result"
    }
   ],
   "source": [
    "data['Volume'].sort_values(ascending=True).head(20)"
   ]
  },
  {
   "cell_type": "code",
   "execution_count": null,
   "metadata": {},
   "outputs": [],
   "source": []
  }
 ],
 "metadata": {
  "kernelspec": {
   "display_name": "Python 3",
   "language": "python",
   "name": "python3"
  },
  "language_info": {
   "codemirror_mode": {
    "name": "ipython",
    "version": 3
   },
   "file_extension": ".py",
   "mimetype": "text/x-python",
   "name": "python",
   "nbconvert_exporter": "python",
   "pygments_lexer": "ipython3",
   "version": "3.8.3"
  }
 },
 "nbformat": 4,
 "nbformat_minor": 4
}
